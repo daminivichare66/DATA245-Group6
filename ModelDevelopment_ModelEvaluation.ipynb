{
 "cells": [
  {
   "cell_type": "code",
   "execution_count": 2,
   "id": "e140ade7",
   "metadata": {},
   "outputs": [],
   "source": [
    "import numpy as np\n",
    "import pandas as pd\n",
    "import re\n",
    "%matplotlib inline\n",
    "import seaborn as sns\n",
    "import matplotlib.pyplot as plt\n",
    "from imblearn.over_sampling import RandomOverSampler\n",
    "from matplotlib.colors import ListedColormap\n",
    "from sklearn import metrics\n",
    "from sklearn.cluster import KMeans\n",
    "from sklearn.decomposition import PCA\n",
    "from sklearn.ensemble import RandomForestClassifier, VotingClassifier\n",
    "from sklearn.feature_selection import mutual_info_classif\n",
    "from sklearn.impute import SimpleImputer\n",
    "from sklearn.manifold import TSNE\n",
    "from sklearn.metrics import (\n",
    "    accuracy_score, classification_report, confusion_matrix,\n",
    "    f1_score, hinge_loss, precision_score, recall_score )\n",
    "from sklearn.model_selection import train_test_split\n",
    "from sklearn.naive_bayes import GaussianNB\n",
    "from sklearn.neighbors import KNeighborsClassifier\n",
    "from sklearn.preprocessing import LabelEncoder, MinMaxScaler, StandardScaler\n",
    "from sklearn.svm import SVC\n",
    "from sklearn.tree import DecisionTreeClassifier\n",
    "import warnings\n",
    "warnings.filterwarnings(\"ignore\")\n",
    "warnings.filterwarnings(\"ignore\", category=DeprecationWarning)\n",
    "import joblib"
   ]
  },
  {
   "cell_type": "code",
   "execution_count": 3,
   "id": "32a6eee2",
   "metadata": {},
   "outputs": [],
   "source": [
    "# Load the preprocessed_data.csv file\n",
    "data_selected = pd.read_csv('preprocessed_data.csv')"
   ]
  },
  {
   "cell_type": "code",
   "execution_count": 4,
   "id": "f49dc27c",
   "metadata": {},
   "outputs": [
    {
     "data": {
      "text/html": [
       "<div>\n",
       "<style scoped>\n",
       "    .dataframe tbody tr th:only-of-type {\n",
       "        vertical-align: middle;\n",
       "    }\n",
       "\n",
       "    .dataframe tbody tr th {\n",
       "        vertical-align: top;\n",
       "    }\n",
       "\n",
       "    .dataframe thead th {\n",
       "        text-align: right;\n",
       "    }\n",
       "</style>\n",
       "<table border=\"1\" class=\"dataframe\">\n",
       "  <thead>\n",
       "    <tr style=\"text-align: right;\">\n",
       "      <th></th>\n",
       "      <th>Year</th>\n",
       "      <th>Dis Mag Scale</th>\n",
       "      <th>Dis Mag Value</th>\n",
       "      <th>Country</th>\n",
       "      <th>Longitude</th>\n",
       "      <th>Latitude</th>\n",
       "      <th>Disaster Type</th>\n",
       "    </tr>\n",
       "  </thead>\n",
       "  <tbody>\n",
       "    <tr>\n",
       "      <th>0</th>\n",
       "      <td>1900.0</td>\n",
       "      <td>0</td>\n",
       "      <td>47350.380307</td>\n",
       "      <td>31</td>\n",
       "      <td>2376</td>\n",
       "      <td>1242</td>\n",
       "      <td>1</td>\n",
       "    </tr>\n",
       "    <tr>\n",
       "      <th>1</th>\n",
       "      <td>1900.0</td>\n",
       "      <td>0</td>\n",
       "      <td>47350.380307</td>\n",
       "      <td>89</td>\n",
       "      <td>2376</td>\n",
       "      <td>1242</td>\n",
       "      <td>1</td>\n",
       "    </tr>\n",
       "    <tr>\n",
       "      <th>2</th>\n",
       "      <td>1902.0</td>\n",
       "      <td>2</td>\n",
       "      <td>8.000000</td>\n",
       "      <td>80</td>\n",
       "      <td>482</td>\n",
       "      <td>662</td>\n",
       "      <td>2</td>\n",
       "    </tr>\n",
       "    <tr>\n",
       "      <th>3</th>\n",
       "      <td>1902.0</td>\n",
       "      <td>0</td>\n",
       "      <td>47350.380307</td>\n",
       "      <td>80</td>\n",
       "      <td>2376</td>\n",
       "      <td>1242</td>\n",
       "      <td>13</td>\n",
       "    </tr>\n",
       "    <tr>\n",
       "      <th>4</th>\n",
       "      <td>1902.0</td>\n",
       "      <td>0</td>\n",
       "      <td>47350.380307</td>\n",
       "      <td>80</td>\n",
       "      <td>2376</td>\n",
       "      <td>1242</td>\n",
       "      <td>13</td>\n",
       "    </tr>\n",
       "    <tr>\n",
       "      <th>5</th>\n",
       "      <td>1903.0</td>\n",
       "      <td>0</td>\n",
       "      <td>47350.380307</td>\n",
       "      <td>34</td>\n",
       "      <td>2376</td>\n",
       "      <td>1242</td>\n",
       "      <td>11</td>\n",
       "    </tr>\n",
       "    <tr>\n",
       "      <th>6</th>\n",
       "      <td>1903.0</td>\n",
       "      <td>0</td>\n",
       "      <td>47350.380307</td>\n",
       "      <td>42</td>\n",
       "      <td>2376</td>\n",
       "      <td>1242</td>\n",
       "      <td>13</td>\n",
       "    </tr>\n",
       "    <tr>\n",
       "      <th>7</th>\n",
       "      <td>1904.0</td>\n",
       "      <td>1</td>\n",
       "      <td>47350.380307</td>\n",
       "      <td>15</td>\n",
       "      <td>2376</td>\n",
       "      <td>1242</td>\n",
       "      <td>12</td>\n",
       "    </tr>\n",
       "    <tr>\n",
       "      <th>8</th>\n",
       "      <td>1905.0</td>\n",
       "      <td>0</td>\n",
       "      <td>47350.380307</td>\n",
       "      <td>34</td>\n",
       "      <td>2376</td>\n",
       "      <td>1242</td>\n",
       "      <td>11</td>\n",
       "    </tr>\n",
       "    <tr>\n",
       "      <th>9</th>\n",
       "      <td>1905.0</td>\n",
       "      <td>2</td>\n",
       "      <td>8.000000</td>\n",
       "      <td>89</td>\n",
       "      <td>2151</td>\n",
       "      <td>1329</td>\n",
       "      <td>2</td>\n",
       "    </tr>\n",
       "  </tbody>\n",
       "</table>\n",
       "</div>"
      ],
      "text/plain": [
       "     Year  Dis Mag Scale  Dis Mag Value  Country  Longitude  Latitude  \\\n",
       "0  1900.0              0   47350.380307       31       2376      1242   \n",
       "1  1900.0              0   47350.380307       89       2376      1242   \n",
       "2  1902.0              2       8.000000       80        482       662   \n",
       "3  1902.0              0   47350.380307       80       2376      1242   \n",
       "4  1902.0              0   47350.380307       80       2376      1242   \n",
       "5  1903.0              0   47350.380307       34       2376      1242   \n",
       "6  1903.0              0   47350.380307       42       2376      1242   \n",
       "7  1904.0              1   47350.380307       15       2376      1242   \n",
       "8  1905.0              0   47350.380307       34       2376      1242   \n",
       "9  1905.0              2       8.000000       89       2151      1329   \n",
       "\n",
       "   Disaster Type  \n",
       "0              1  \n",
       "1              1  \n",
       "2              2  \n",
       "3             13  \n",
       "4             13  \n",
       "5             11  \n",
       "6             13  \n",
       "7             12  \n",
       "8             11  \n",
       "9              2  "
      ]
     },
     "execution_count": 4,
     "metadata": {},
     "output_type": "execute_result"
    }
   ],
   "source": [
    "data_selected.head(10)"
   ]
  },
  {
   "cell_type": "code",
   "execution_count": 5,
   "id": "14e31b90",
   "metadata": {},
   "outputs": [
    {
     "name": "stdout",
     "output_type": "stream",
     "text": [
      "Year             0\n",
      "Dis Mag Scale    0\n",
      "Dis Mag Value    0\n",
      "Country          0\n",
      "Longitude        0\n",
      "Latitude         0\n",
      "Disaster Type    0\n",
      "dtype: int64\n"
     ]
    }
   ],
   "source": [
    "# Checking for missing values in the new csv file\n",
    "print(data_selected.isnull().sum())"
   ]
  },
  {
   "cell_type": "markdown",
   "id": "2c29002c",
   "metadata": {},
   "source": [
    "### i. Random Forest"
   ]
  },
  {
   "cell_type": "code",
   "execution_count": 6,
   "id": "07ed23e0",
   "metadata": {},
   "outputs": [
    {
     "name": "stdout",
     "output_type": "stream",
     "text": [
      "Random Forest Classifier:\n",
      "Accuracy: 0.8316800991940484\n"
     ]
    }
   ],
   "source": [
    "# Separating feature set and target variable\n",
    "X = data_selected.drop('Disaster Type', axis=1)\n",
    "y = data_selected['Disaster Type']\n",
    "\n",
    "# Splitting the dataset into training and testing sets\n",
    "X_train, X_test, y_train, y_test = train_test_split(X, y, test_size=0.2, random_state=42)\n",
    "\n",
    "# Training the Random Forest model\n",
    "rf_model = RandomForestClassifier(\n",
    "    n_estimators=50,  # Number of trees in the forest\n",
    "    max_depth=None,    # Maximum depth of the tree\n",
    "    min_samples_split=2,  # Minimum number of samples required to split an internal node\n",
    "    min_samples_leaf=1,   # Minimum number of samples required to be at a leaf node\n",
    "    random_state=42\n",
    ")\n",
    "\n",
    "# Model Fitting\n",
    "rf_model.fit(X_train, y_train)\n",
    "\n",
    "y_pred = rf_model.predict(X_test)\n",
    "\n",
    "# Evaluation of the model\n",
    "print(\"Random Forest Classifier:\")\n",
    "print(\"Accuracy:\", accuracy_score(y_test, y_pred))"
   ]
  },
  {
   "cell_type": "markdown",
   "id": "15f89407",
   "metadata": {},
   "source": [
    "### ii. Support Vector Machine"
   ]
  },
  {
   "cell_type": "code",
   "execution_count": 7,
   "id": "60df3f7d",
   "metadata": {},
   "outputs": [
    {
     "name": "stdout",
     "output_type": "stream",
     "text": [
      "Support Vector Machine (SVM):\n",
      "Accuracy: 0.3716676999380037\n"
     ]
    }
   ],
   "source": [
    "# Separating feature set and target variable\n",
    "X = data_selected.drop('Disaster Type', axis=1)\n",
    "y = data_selected['Disaster Type']\n",
    "\n",
    "# Splitting the data into training and testing sets\n",
    "X_train, X_test, y_train, y_test = train_test_split(X, y, test_size=0.2, random_state=42)\n",
    "\n",
    "# Training the Support Vector Machine model\n",
    "svm_model = SVC(random_state=42)\n",
    "svm_model.fit(X_train, y_train)\n",
    "\n",
    "y_pred_svm = svm_model.predict(X_test)\n",
    "\n",
    "# Evaluate the SVM model\n",
    "print(\"Support Vector Machine (SVM):\")\n",
    "print(\"Accuracy:\", accuracy_score(y_test, y_pred_svm))"
   ]
  },
  {
   "cell_type": "markdown",
   "id": "5ec17800",
   "metadata": {},
   "source": [
    "### iii. K- Nearest Neighbor"
   ]
  },
  {
   "cell_type": "code",
   "execution_count": 11,
   "id": "4bddd3f3",
   "metadata": {},
   "outputs": [
    {
     "name": "stdout",
     "output_type": "stream",
     "text": [
      "K-Nearest Neighbors (KNN):\n",
      "Accuracy: 0.6906385616862988\n"
     ]
    }
   ],
   "source": [
    "# Separating feature set and target variable\n",
    "X = data_selected.drop('Disaster Type', axis=1)\n",
    "y = data_selected['Disaster Type']\n",
    "\n",
    "# Splitting the data into training and testing sets\n",
    "X_train, X_test, y_train, y_test = train_test_split(X, y, test_size=0.2, random_state=42)\n",
    "\n",
    "# Training the K-Nearest Neighbors model\n",
    "knn_model = KNeighborsClassifier(\n",
    "    n_neighbors=5,  # Number of neighbors to use\n",
    "    weights='uniform',  # Weight function used in prediction\n",
    "    algorithm='auto',  # Algorithm used to compute the nearest neighbors\n",
    ")\n",
    "knn_model.fit(X_train, y_train)\n",
    "\n",
    "y_pred_knn = knn_model.predict(X_test)\n",
    "\n",
    "# Evaluation of the KNN model\n",
    "print(\"K-Nearest Neighbors (KNN):\")\n",
    "print(\"Accuracy:\", accuracy_score(y_test, y_pred_knn))"
   ]
  },
  {
   "cell_type": "markdown",
   "id": "fea164fb",
   "metadata": {},
   "source": [
    "### iv. Navie Bayes"
   ]
  },
  {
   "cell_type": "code",
   "execution_count": 12,
   "id": "06a57185",
   "metadata": {},
   "outputs": [
    {
     "name": "stdout",
     "output_type": "stream",
     "text": [
      "Naive Bayes:\n",
      "Accuracy: 0.14290142591444513\n"
     ]
    }
   ],
   "source": [
    "# Separate feature set and target variable\n",
    "X = data_selected.drop('Disaster Type', axis=1)\n",
    "y = data_selected['Disaster Type']\n",
    "\n",
    "# Splitting the data into training and testing sets\n",
    "X_train, X_test, y_train, y_test = train_test_split(X, y, test_size=0.2, random_state=42)\n",
    "\n",
    "# Training the Naive Bayes model\n",
    "nb_model = GaussianNB()\n",
    "nb_model.fit(X_train, y_train)\n",
    "\n",
    "y_pred_nb = nb_model.predict(X_test)\n",
    "\n",
    "# Evaluation of the Naive Bayes model\n",
    "print(\"Naive Bayes:\")\n",
    "print(\"Accuracy:\", accuracy_score(y_test, y_pred_nb))"
   ]
  },
  {
   "cell_type": "markdown",
   "id": "22c1cc35",
   "metadata": {},
   "source": [
    "## Step 5: Model Evaluation"
   ]
  }
 ],
 "metadata": {
  "kernelspec": {
   "display_name": "Python 3 (ipykernel)",
   "language": "python",
   "name": "python3"
  },
  "language_info": {
   "codemirror_mode": {
    "name": "ipython",
    "version": 3
   },
   "file_extension": ".py",
   "mimetype": "text/x-python",
   "name": "python",
   "nbconvert_exporter": "python",
   "pygments_lexer": "ipython3",
   "version": "3.9.13"
  }
 },
 "nbformat": 4,
 "nbformat_minor": 5
}
