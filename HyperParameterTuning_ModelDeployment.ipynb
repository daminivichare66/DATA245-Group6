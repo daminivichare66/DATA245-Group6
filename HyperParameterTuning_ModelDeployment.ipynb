{
 "cells": [
  {
   "cell_type": "code",
   "execution_count": 1,
   "id": "86094961",
   "metadata": {},
   "outputs": [],
   "source": [
    "import numpy as np\n",
    "import pandas as pd\n",
    "import re\n",
    "%matplotlib inline\n",
    "import seaborn as sns\n",
    "import matplotlib.pyplot as plt\n",
    "from imblearn.over_sampling import RandomOverSampler\n",
    "from matplotlib.colors import ListedColormap\n",
    "from sklearn import metrics\n",
    "from sklearn.cluster import KMeans\n",
    "from sklearn.decomposition import PCA\n",
    "from sklearn.ensemble import RandomForestClassifier, VotingClassifier\n",
    "from sklearn.feature_selection import mutual_info_classif\n",
    "from sklearn.impute import SimpleImputer\n",
    "from sklearn.manifold import TSNE\n",
    "from sklearn.metrics import (\n",
    "    accuracy_score, classification_report, confusion_matrix,\n",
    "    f1_score, hinge_loss, precision_score, recall_score )\n",
    "from sklearn.model_selection import train_test_split\n",
    "from sklearn.naive_bayes import GaussianNB\n",
    "from sklearn.neighbors import KNeighborsClassifier\n",
    "from sklearn.preprocessing import LabelEncoder, MinMaxScaler, StandardScaler\n",
    "from sklearn.svm import SVC\n",
    "from sklearn.tree import DecisionTreeClassifier\n",
    "import warnings\n",
    "warnings.filterwarnings(\"ignore\")\n",
    "warnings.filterwarnings(\"ignore\", category=DeprecationWarning)\n",
    "import joblib"
   ]
  },
  {
   "cell_type": "code",
   "execution_count": 2,
   "id": "783c2913",
   "metadata": {},
   "outputs": [],
   "source": [
    "# Load the preprocessed_data.csv file\n",
    "data_selected = pd.read_csv('preprocessed_data.csv')"
   ]
  },
  {
   "cell_type": "code",
   "execution_count": 3,
   "id": "2ff84a18",
   "metadata": {},
   "outputs": [
    {
     "name": "stdout",
     "output_type": "stream",
     "text": [
      "Year             0\n",
      "Dis Mag Scale    0\n",
      "Dis Mag Value    0\n",
      "Country          0\n",
      "Longitude        0\n",
      "Latitude         0\n",
      "Disaster Type    0\n",
      "dtype: int64\n"
     ]
    }
   ],
   "source": [
    "# Checking for missing values in the new csv file\n",
    "print(data_selected.isnull().sum())"
   ]
  },
  {
   "cell_type": "code",
   "execution_count": 4,
   "id": "047ac974",
   "metadata": {},
   "outputs": [
    {
     "name": "stdout",
     "output_type": "stream",
     "text": [
      "5     5551\n",
      "12    4496\n",
      "2     1544\n",
      "3     1501\n",
      "10     776\n",
      "1      770\n",
      "4      603\n",
      "14     471\n",
      "13     265\n",
      "9       96\n",
      "11      48\n",
      "7        2\n",
      "6        1\n",
      "8        1\n",
      "0        1\n",
      "Name: Disaster Type, dtype: int64\n"
     ]
    }
   ],
   "source": [
    "# Checking the class distribution\n",
    "print(data_selected['Disaster Type'].value_counts())"
   ]
  },
  {
   "cell_type": "markdown",
   "id": "88ce9bd2",
   "metadata": {},
   "source": [
    "#### Our data is not balanced, so to balance our data we are using Random Oversampler Technique"
   ]
  },
  {
   "cell_type": "code",
   "execution_count": 5,
   "id": "cdb3723e",
   "metadata": {},
   "outputs": [],
   "source": [
    "# Separating feature set and target variable\n",
    "X = data_selected.drop('Disaster Type', axis=1)\n",
    "y = data_selected['Disaster Type']\n",
    "\n",
    "# Initializing the RandomOverSampler\n",
    "oversampler = RandomOverSampler(random_state=42)\n",
    "\n",
    "# Fitting and applying the oversampling\n",
    "X_resampled, y_resampled = oversampler.fit_resample(X, y)"
   ]
  },
  {
   "cell_type": "code",
   "execution_count": 6,
   "id": "e1f1a865",
   "metadata": {},
   "outputs": [
    {
     "name": "stdout",
     "output_type": "stream",
     "text": [
      "1     5551\n",
      "2     5551\n",
      "13    5551\n",
      "11    5551\n",
      "12    5551\n",
      "5     5551\n",
      "3     5551\n",
      "10    5551\n",
      "14    5551\n",
      "4     5551\n",
      "6     5551\n",
      "9     5551\n",
      "8     5551\n",
      "0     5551\n",
      "7     5551\n",
      "Name: Disaster Type, dtype: int64\n"
     ]
    }
   ],
   "source": [
    "# Checking the new class distribution\n",
    "print(pd.Series(y_resampled).value_counts())"
   ]
  },
  {
   "cell_type": "markdown",
   "id": "d7047c4e",
   "metadata": {},
   "source": [
    "#### Now as we have a balanced data, we are processing from step 4 (model development) again"
   ]
  },
  {
   "cell_type": "code",
   "execution_count": 7,
   "id": "1a7121b3",
   "metadata": {},
   "outputs": [
    {
     "name": "stdout",
     "output_type": "stream",
     "text": [
      "Random Forest Classifier:\n",
      "Accuracy: 0.953822134150003\n",
      "\n",
      "\n",
      "\n",
      "Support Vector Machine (SVM):\n",
      "Accuracy: 0.6500330270822074\n",
      "\n",
      "\n",
      "\n",
      "K-Nearest Neighbors (KNN):\n",
      "Accuracy: 0.9313036690085871\n",
      "\n",
      "\n",
      "\n",
      "Naive Bayes:\n",
      "Accuracy: 0.6532156368221942\n"
     ]
    }
   ],
   "source": [
    "# Splitting the resampled dataset into training and testing sets\n",
    "X_train, X_test, y_train, y_test = train_test_split(X_resampled, y_resampled, test_size=0.2, random_state=42)\n",
    "\n",
    "# Standardizing/Scaling the features\n",
    "scaler = StandardScaler()\n",
    "X_train_scaled = scaler.fit_transform(X_train)\n",
    "X_test_scaled = scaler.transform(X_test)\n",
    "\n",
    "\n",
    "# Training the Random Forest Classifier\n",
    "rf_model = RandomForestClassifier(n_estimators=100, random_state=42)\n",
    "rf_model.fit(X_train_scaled, y_train)\n",
    "\n",
    "y_pred_rf = rf_model.predict(X_test_scaled)\n",
    "\n",
    "# Evaluation the Random Forest model\n",
    "print(\"Random Forest Classifier:\")\n",
    "print(\"Accuracy:\", accuracy_score(y_test, y_pred_rf))\n",
    "print('\\n')\n",
    "\n",
    "# Training the Support Vector Machine (SVM)\n",
    "svm_model = SVC(kernel='linear', C=1.0, random_state=42)\n",
    "svm_model.fit(X_train_scaled, y_train)\n",
    "\n",
    "y_pred_svm = svm_model.predict(X_test_scaled)\n",
    "\n",
    "# Evaluation the SVM model\n",
    "print(\"\\nSupport Vector Machine (SVM):\")\n",
    "print(\"Accuracy:\", accuracy_score(y_test, y_pred_svm))\n",
    "print('\\n')\n",
    "\n",
    "# Training the K-Nearest Neighbors (KNN)\n",
    "knn_model = KNeighborsClassifier(n_neighbors=5)\n",
    "knn_model.fit(X_train_scaled, y_train)\n",
    "\n",
    "y_pred_knn = knn_model.predict(X_test_scaled)\n",
    "\n",
    "# Evaluation the KNN model\n",
    "print(\"\\nK-Nearest Neighbors (KNN):\")\n",
    "print(\"Accuracy:\", accuracy_score(y_test, y_pred_knn))\n",
    "print('\\n')\n",
    "\n",
    "# Training the Naive Bayes\n",
    "nb_model = GaussianNB()\n",
    "nb_model.fit(X_train_scaled, y_train)\n",
    "\n",
    "y_pred_nb = nb_model.predict(X_test_scaled)\n",
    "\n",
    "# Evaluation the Naive Bayes model\n",
    "print(\"\\nNaive Bayes:\")\n",
    "print(\"Accuracy:\", accuracy_score(y_test, y_pred_nb))"
   ]
  },
  {
   "cell_type": "code",
   "execution_count": 8,
   "id": "4453f669",
   "metadata": {},
   "outputs": [
    {
     "name": "stdout",
     "output_type": "stream",
     "text": [
      "Random Forest Classifier Evaluation Metrics:\n",
      "F1 Score: 0.9519389979386549\n",
      "Accuracy: 0.953822134150003\n",
      "Recall (Sensitivity): 0.953822134150003\n",
      "Precision: 0.9551815103634058\n",
      "\n",
      "\n",
      "Support Vector Machine (SVM)-Evaluation Metrics:\n",
      "F1 Score: 0.633872977472952\n",
      "Accuracy: 0.6500330270822074\n",
      "Recall (Sensitivity): 0.6500330270822074\n",
      "Precision: 0.6828630625480667\n",
      "\n",
      "\n",
      "K-Nearest Neighbor (K-NN)-Evaluation Metrics:\n",
      "F1 Score: 0.9257928204090926\n",
      "Accuracy: 0.9313036690085871\n",
      "Recall (Sensitivity): 0.9313036690085871\n",
      "Precision: 0.9316341489311692\n",
      "\n",
      "\n",
      "Navie Bayes-Evaluation Metrics:\n",
      "F1 Score: 0.6297211670429899\n",
      "Accuracy: 0.6532156368221942\n",
      "Recall (Sensitivity): 0.6532156368221942\n",
      "Precision: 0.7167261979602237\n",
      "\n",
      "\n"
     ]
    }
   ],
   "source": [
    "# Evaluating the performance of Random Forest\n",
    "print(\"Random Forest Classifier Evaluation Metrics:\")\n",
    "print(\"F1 Score:\", f1_score(y_test, y_pred_rf, average='weighted'))\n",
    "print(\"Accuracy:\", accuracy_score(y_test, y_pred_rf))\n",
    "print(\"Recall (Sensitivity):\", recall_score(y_test, y_pred_rf, average='weighted'))\n",
    "print(\"Precision:\", precision_score(y_test, y_pred_rf, average='weighted'))\n",
    "print(\"\\n\")\n",
    "\n",
    "# Evaluating the performance of SVM\n",
    "print(\"Support Vector Machine (SVM)-Evaluation Metrics:\")\n",
    "print(\"F1 Score:\", f1_score(y_test, y_pred_svm, average='weighted'))\n",
    "print(\"Accuracy:\", accuracy_score(y_test, y_pred_svm))\n",
    "print(\"Recall (Sensitivity):\", recall_score(y_test, y_pred_svm, average='weighted'))\n",
    "print(\"Precision:\", precision_score(y_test, y_pred_svm, average='weighted'))\n",
    "print(\"\\n\")\n",
    "\n",
    "# Evaluating the performance of K-NN\n",
    "print(\"K-Nearest Neighbor (K-NN)-Evaluation Metrics:\")\n",
    "print(\"F1 Score:\", f1_score(y_test, y_pred_knn, average='weighted'))\n",
    "print(\"Accuracy:\", accuracy_score(y_test, y_pred_knn))\n",
    "print(\"Recall (Sensitivity):\", recall_score(y_test, y_pred_knn, average='weighted'))\n",
    "print(\"Precision:\", precision_score(y_test, y_pred_knn, average='weighted'))\n",
    "print(\"\\n\")\n",
    "\n",
    "# Evaluating the performance of Navie Bayes\n",
    "print(\"Navie Bayes-Evaluation Metrics:\")\n",
    "print(\"F1 Score:\", f1_score(y_test, y_pred_nb, average='weighted'))\n",
    "print(\"Accuracy:\", accuracy_score(y_test, y_pred_nb))\n",
    "print(\"Recall (Sensitivity):\", recall_score(y_test, y_pred_nb, average='weighted'))\n",
    "print(\"Precision:\", precision_score(y_test, y_pred_nb, average='weighted'))\n",
    "print(\"\\n\")"
   ]
  },
  {
   "cell_type": "code",
   "execution_count": 9,
   "id": "79648463",
   "metadata": {},
   "outputs": [
    {
     "name": "stdout",
     "output_type": "stream",
     "text": [
      "\n",
      "Ensemble Model (Hard Voting):\n",
      "F1 Score: 0.9194778735553807\n",
      "Accuracy: 0.9236173662403171\n",
      "Recall (Sensitivity): 0.9236173662403171\n",
      "Precision: 0.92917968439649\n"
     ]
    }
   ],
   "source": [
    "# Combining individual models to form a Ensemble Model\n",
    "rf_model = RandomForestClassifier(n_estimators=100, random_state=42)\n",
    "svm_model = SVC(kernel='linear', C=1.0, random_state=42)\n",
    "knn_model = KNeighborsClassifier(n_neighbors=5)\n",
    "nb_model = GaussianNB()\n",
    "\n",
    "# Creating a hard voting classifier\n",
    "ensemble_model = VotingClassifier(estimators=[\n",
    "    ('rf', rf_model),\n",
    "    ('svm', svm_model),\n",
    "    ('knn', knn_model),\n",
    "    ('nb', nb_model)\n",
    "], voting='hard')\n",
    "\n",
    "# Fitting the ensemble model\n",
    "ensemble_model.fit(X_train_scaled, y_train)\n",
    "\n",
    "y_pred_ensemble = ensemble_model.predict(X_test_scaled)\n",
    "\n",
    "# Evaluate the ensemble model\n",
    "print(\"\\nEnsemble Model (Hard Voting):\")\n",
    "print(\"F1 Score:\", f1_score(y_test, y_pred_ensemble, average='weighted'))\n",
    "print(\"Accuracy:\", accuracy_score(y_test, y_pred_ensemble))\n",
    "print(\"Recall (Sensitivity):\", recall_score(y_test, y_pred_ensemble, average='weighted'))\n",
    "print(\"Precision:\", precision_score(y_test, y_pred_ensemble, average='weighted'))"
   ]
  },
  {
   "cell_type": "markdown",
   "id": "de1cafaf",
   "metadata": {},
   "source": [
    "## Performing Ensemble Techniques"
   ]
  },
  {
   "cell_type": "markdown",
   "id": "89204dd3",
   "metadata": {},
   "source": [
    "### Hard voting Ensemble combining 4 models"
   ]
  },
  {
   "cell_type": "code",
   "execution_count": 10,
   "id": "fa37c374",
   "metadata": {},
   "outputs": [
    {
     "name": "stdout",
     "output_type": "stream",
     "text": [
      "\n",
      "Ensemble Model (Hard Voting):\n",
      "F1 Score: 0.9194778735553807\n",
      "Accuracy: 0.9236173662403171\n",
      "Recall (Sensitivity): 0.9236173662403171\n",
      "Precision: 0.92917968439649\n"
     ]
    }
   ],
   "source": [
    "# Combining individual models to form a Ensemble Model\n",
    "rf_model = RandomForestClassifier(n_estimators=100, random_state=42)\n",
    "svm_model = SVC(kernel='linear', C=1.0, random_state=42)\n",
    "knn_model = KNeighborsClassifier(n_neighbors=5)\n",
    "nb_model = GaussianNB()\n",
    "\n",
    "# Creating a hard voting classifier\n",
    "ensemble_model = VotingClassifier(estimators=[\n",
    "    ('rf', rf_model),\n",
    "    ('svm', svm_model),\n",
    "    ('knn', knn_model),\n",
    "    ('nb', nb_model)\n",
    "], voting='hard')\n",
    "\n",
    "# Fitting the ensemble model\n",
    "ensemble_model.fit(X_train_scaled, y_train)\n",
    "\n",
    "y_pred_ensemble = ensemble_model.predict(X_test_scaled)\n",
    "\n",
    "# Evaluate the ensemble model\n",
    "print(\"\\nEnsemble Model (Hard Voting):\")\n",
    "print(\"F1 Score:\", f1_score(y_test, y_pred_ensemble, average='weighted'))\n",
    "print(\"Accuracy:\", accuracy_score(y_test, y_pred_ensemble))\n",
    "print(\"Recall (Sensitivity):\", recall_score(y_test, y_pred_ensemble, average='weighted'))\n",
    "print(\"Precision:\", precision_score(y_test, y_pred_ensemble, average='weighted'))"
   ]
  },
  {
   "cell_type": "markdown",
   "id": "3bd558b8",
   "metadata": {},
   "source": [
    "### Soft voting ensemble for svm and random forest"
   ]
  },
  {
   "cell_type": "code",
   "execution_count": 11,
   "id": "64e44a67",
   "metadata": {},
   "outputs": [
    {
     "name": "stdout",
     "output_type": "stream",
     "text": [
      "\n",
      "Ensemble Model (Soft Voting):\n",
      "F1 Score: 0.9350887804598705\n",
      "Accuracy: 0.9390500210172341\n",
      "Recall (Sensitivity): 0.9390500210172341\n",
      "Precision: 0.9432068551415105\n"
     ]
    }
   ],
   "source": [
    "# Combining individual models with probability estimates to form an Ensemble Model\n",
    "rf_model = RandomForestClassifier(n_estimators=100, random_state=42)\n",
    "svm_model = SVC(kernel='linear', C=1.0, probability=True, random_state=42)\n",
    "knn_model = KNeighborsClassifier(n_neighbors=5)\n",
    "nb_model = GaussianNB()\n",
    "\n",
    "# Creating a soft voting classifier\n",
    "ensemble_model = VotingClassifier(estimators=[\n",
    "    ('rf', rf_model),\n",
    "    ('svm', svm_model),\n",
    "    ('knn', knn_model),\n",
    "    ('nb', nb_model)\n",
    "], voting='soft')\n",
    "\n",
    "# Fitting the ensemble model\n",
    "ensemble_model.fit(X_train_scaled, y_train)\n",
    "\n",
    "y_pred_ensemble = ensemble_model.predict(X_test_scaled)\n",
    "\n",
    "# Evaluate the ensemble model\n",
    "print(\"\\nEnsemble Model (Soft Voting):\")\n",
    "print(\"F1 Score:\", f1_score(y_test, y_pred_ensemble, average='weighted'))\n",
    "print(\"Accuracy:\", accuracy_score(y_test, y_pred_ensemble))\n",
    "print(\"Recall (Sensitivity):\", recall_score(y_test, y_pred_ensemble, average='weighted'))\n",
    "print(\"Precision:\", precision_score(y_test, y_pred_ensemble, average='weighted'))"
   ]
  },
  {
   "cell_type": "markdown",
   "id": "79a37427",
   "metadata": {},
   "source": [
    "### Visualization of Performance metrics using Grouped Bar chart"
   ]
  },
  {
   "cell_type": "code",
   "execution_count": 12,
   "id": "efe55a53",
   "metadata": {},
   "outputs": [
    {
     "data": {
      "image/png": "[encoded data removed]",
      "text/plain": [
       "<Figure size 1400x600 with 1 Axes>"
      ]
     },
     "metadata": {},
     "output_type": "display_data"
    }
   ],
   "source": [
    "import matplotlib.pyplot as plt\n",
    "import numpy as np\n",
    "\n",
    "# Models and their respective perfromance metrics\n",
    "models = ['Random Forest', 'SVM', 'K-NN', 'Naive Bayes', 'Ensemble Hard-Voting', 'Ensemble Soft-Voting']\n",
    "f1_scores = [0.9519, 0.6340, 0.9258, 0.6297, 0.91947, 0.93508 ]\n",
    "accuracies = [0.9538, 0.6501, 0.9313, 0.6532, 0.92361, 0.93905 ]\n",
    "recalls = [0.9538, 0.6501, 0.9313, 0.6532, 0.92361, 0.93905]\n",
    "precisions = [0.9552, 0.6831, 0.9316, 0.7167, 0.92917, 0.94320]\n",
    "\n",
    "# Grouped Bar chart\n",
    "bar_width = 0.2\n",
    "index = np.arange(len(models))\n",
    "\n",
    "# Plotting the chart\n",
    "fig, ax = plt.subplots(figsize=(14, 6))\n",
    "bar1 = ax.bar(index - bar_width, f1_scores, bar_width, label='F1 Score')\n",
    "bar2 = ax.bar(index, accuracies, bar_width, label='Accuracy')\n",
    "bar3 = ax.bar(index + bar_width, recalls, bar_width, label='Recall')\n",
    "bar4 = ax.bar(index + 2 * bar_width, precisions, bar_width, label='Precision')\n",
    "\n",
    "# Settign up the Legend and Title\n",
    "ax.set_xlabel('Models')\n",
    "ax.set_ylabel('Scores')\n",
    "ax.set_title('Model Evaluation Metrics')\n",
    "ax.set_xticks(index + bar_width)\n",
    "ax.set_xticklabels(models)\n",
    "ax.legend(bbox_to_anchor=(1.05, 1), loc='upper left')\n",
    "\n",
    "# Show the plot\n",
    "plt.show()"
   ]
  },
  {
   "cell_type": "markdown",
   "id": "b67da0d5",
   "metadata": {},
   "source": [
    "#### * After visualizing the Grouped bar chart, we consider Random Forest to be our best Model <br> * We wanted to assess the generaliziability and performance of our model further. <br> * To achieve this we have done HyperParameter Tuning and Cross validation on our best model. <br>"
   ]
  },
  {
   "cell_type": "code",
   "execution_count": 13,
   "id": "0311c91e",
   "metadata": {},
   "outputs": [
    {
     "name": "stdout",
     "output_type": "stream",
     "text": [
      "Best Hyperparameters for Random Forest: {'max_depth': None, 'min_samples_leaf': 1, 'min_samples_split': 2, 'n_estimators': 100}\n"
     ]
    }
   ],
   "source": [
    "from sklearn.model_selection import GridSearchCV, StratifiedKFold\n",
    "\n",
    "# Performing Hyperparameter Tuning using GridSearchCV\n",
    "param_grid = {\n",
    "    'n_estimators': [50, 100, 150],\n",
    "    'max_depth': [None, 10, 20],\n",
    "    'min_samples_split': [2, 5, 10],\n",
    "    'min_samples_leaf': [1, 2, 4]\n",
    "}\n",
    "\n",
    "grid_search = GridSearchCV(estimator=rf_model, param_grid=param_grid, cv=StratifiedKFold(n_splits=5), scoring='accuracy')\n",
    "grid_search.fit(X_train_scaled, y_train)\n",
    "\n",
    "# Getting the best parameters\n",
    "best_params = grid_search.best_params_\n",
    "best_rf_model = grid_search.best_estimator_\n",
    "\n",
    "# Print the best parameters\n",
    "print(\"Best Hyperparameters for Random Forest:\", best_params)\n"
   ]
  },
  {
   "cell_type": "code",
   "execution_count": 14,
   "id": "8c5fa5fa",
   "metadata": {},
   "outputs": [
    {
     "name": "stdout",
     "output_type": "stream",
     "text": [
      "\n",
      "Cross-Validation Results:\n",
      "   param_n_estimators param_max_depth param_min_samples_split  \\\n",
      "0                  50            None                       2   \n",
      "1                 100            None                       2   \n",
      "2                 150            None                       2   \n",
      "3                  50            None                       5   \n",
      "4                 100            None                       5   \n",
      "..                ...             ...                     ...   \n",
      "76                100              20                       5   \n",
      "77                150              20                       5   \n",
      "78                 50              20                      10   \n",
      "79                100              20                      10   \n",
      "80                150              20                      10   \n",
      "\n",
      "   param_min_samples_leaf  mean_test_score  \n",
      "0                       1         0.948733  \n",
      "1                       1         0.948928  \n",
      "2                       1         0.948793  \n",
      "3                       1         0.947037  \n",
      "4                       1         0.947547  \n",
      "..                    ...              ...  \n",
      "76                      4         0.915976  \n",
      "77                      4         0.916532  \n",
      "78                      4         0.915781  \n",
      "79                      4         0.916502  \n",
      "80                      4         0.916562  \n",
      "\n",
      "[81 rows x 5 columns]\n"
     ]
    }
   ],
   "source": [
    "# Loading Cross-Validation results into a Data frame\n",
    "cv_results = pd.DataFrame(grid_search.cv_results_)\n",
    "print(\"\\nCross-Validation Results:\")\n",
    "print(cv_results[['param_n_estimators', 'param_max_depth', 'param_min_samples_split', 'param_min_samples_leaf', 'mean_test_score']])"
   ]
  },
  {
   "cell_type": "markdown",
   "id": "25f6412a",
   "metadata": {},
   "source": [
    "#### Perfroming evalution metrics again on the Best model after Hyperparameter Tuning"
   ]
  },
  {
   "cell_type": "code",
   "execution_count": 15,
   "id": "a01d1c97",
   "metadata": {},
   "outputs": [
    {
     "name": "stdout",
     "output_type": "stream",
     "text": [
      "Random Forest Classifier after Hyperparameter Tuning:\n",
      "Accuracy: 0.953822134150003\n",
      "F1 Score: 0.9519389979386549\n",
      "Recall (Sensitivity): 0.953822134150003\n",
      "Precision: 0.9551815103634058\n"
     ]
    }
   ],
   "source": [
    "# Evaluate the best model on the test set\n",
    "y_pred_rf_tuned = best_rf_model.predict(X_test_scaled)\n",
    "\n",
    "# Model Evaluation after Hyperparameter Tuning\n",
    "print(\"Random Forest Classifier after Hyperparameter Tuning:\")\n",
    "print(\"Accuracy:\", accuracy_score(y_test, y_pred_rf_tuned))\n",
    "print(\"F1 Score:\", f1_score(y_test, y_pred_rf_tuned, average='weighted'))\n",
    "print(\"Recall (Sensitivity):\", recall_score(y_test, y_pred_rf_tuned, average='weighted'))\n",
    "print(\"Precision:\", precision_score(y_test, y_pred_rf_tuned, average='weighted'))"
   ]
  },
  {
   "cell_type": "code",
   "execution_count": 16,
   "id": "e44be0d2",
   "metadata": {},
   "outputs": [
    {
     "data": {
      "image/png": "[encoded data removed]",
      "text/plain": [
       "<Figure size 640x480 with 1 Axes>"
      ]
     },
     "metadata": {},
     "output_type": "display_data"
    }
   ],
   "source": [
    "import matplotlib.pyplot as plt\n",
    "import numpy as np\n",
    "\n",
    "# Metrics before hyperparameter tuning\n",
    "metrics_before_tuning = {\n",
    "    'Accuracy': 0.953822134150003,\n",
    "    'F1 Score': 0.9519389979386549,\n",
    "    'Recall': 0.953822134150003,\n",
    "    'Precision': 0.9551815103634058\n",
    "}\n",
    "\n",
    "# Metrics after hyperparameter tuning\n",
    "metrics_after_tuning = {\n",
    "    'Accuracy': 0.953822134150003,\n",
    "    'F1 Score': 0.9519389979386549,\n",
    "    'Recall': 0.953822134150003,\n",
    "    'Precision': 0.9551815103634058\n",
    "}\n",
    "\n",
    "metrics_names = list(metrics_before_tuning.keys())\n",
    "values_before_tuning = list(metrics_before_tuning.values())\n",
    "values_after_tuning = list(metrics_after_tuning.values())\n",
    "\n",
    "bar_width = 0.35\n",
    "index = np.arange(len(metrics_names))\n",
    "\n",
    "fig, ax = plt.subplots()\n",
    "bar1 = ax.bar(index, values_before_tuning, bar_width, label='Before Tuning')\n",
    "bar2 = ax.bar(index + bar_width, values_after_tuning, bar_width, label='After Tuning')\n",
    "\n",
    "ax.set_xlabel('Metrics')\n",
    "ax.set_ylabel('Values')\n",
    "ax.set_title('Random Forest Classifier Evaluation Metrics Before and After Hyperparameter Tuning')\n",
    "ax.set_xticks(index + bar_width / 2)\n",
    "ax.set_xticklabels(metrics_names)\n",
    "ax.legend(bbox_to_anchor=(1.05, 1), loc='upper left')\n",
    "\n",
    "plt.show()\n"
   ]
  },
  {
   "cell_type": "markdown",
   "id": "1336f382",
   "metadata": {},
   "source": [
    "#### After visualzing the above graph we can observe that there is no change in the performance metrics of our best model, before and after hyper parameter tuning\n",
    "\n",
    "#### Hence, we conclude that Our Best Model, Random forest's best performance metrics are <br>\n",
    "<b>Accuracy =  0.953822134150003<br>\n",
    "    F1 Score = 0.9519389979386549<br>\n",
    "    Recall =  0.953822134150003<br>\n",
    "    Precision = 0.9551815103634058</b>"
   ]
  },
  {
   "cell_type": "markdown",
   "id": "7af777e8",
   "metadata": {},
   "source": [
    "## Step 7: Saving the Model"
   ]
  },
  {
   "cell_type": "code",
   "execution_count": 17,
   "id": "c89594fd",
   "metadata": {},
   "outputs": [
    {
     "name": "stdout",
     "output_type": "stream",
     "text": [
      "Random Forest Classifier:\n",
      "Accuracy: 0.953822134150003\n"
     ]
    }
   ],
   "source": [
    "# Fitting the Random Forest Classifier\n",
    "rf_model.fit(X_train_scaled, y_train)\n",
    "\n",
    "# Saving the trained Random Forest model to a file\n",
    "joblib.dump(rf_model, 'random_forest_model.joblib')\n",
    "\n",
    "# Evaluating the model\n",
    "y_pred_rf = rf_model.predict(X_test_scaled)\n",
    "print(\"Random Forest Classifier:\")\n",
    "print(\"Accuracy:\", accuracy_score(y_test, y_pred_rf))"
   ]
  },
  {
   "cell_type": "code",
   "execution_count": 18,
   "id": "aadbcaea",
   "metadata": {},
   "outputs": [
    {
     "data": {
      "text/plain": [
       "['oversampler.joblib']"
      ]
     },
     "execution_count": 18,
     "metadata": {},
     "output_type": "execute_result"
    }
   ],
   "source": [
    "# Initializing the RandomOverSampler\n",
    "oversampler = RandomOverSampler(random_state=42)\n",
    "\n",
    "# Fitting and applying the oversampling\n",
    "X_resampled, y_resampled = oversampler.fit_resample(X, y)\n",
    "\n",
    "# Saving the oversampler to a file\n",
    "joblib.dump(oversampler, 'oversampler.joblib')"
   ]
  }
 ],
 "metadata": {
  "kernelspec": {
   "display_name": "Python 3 (ipykernel)",
   "language": "python",
   "name": "python3"
  },
  "language_info": {
   "codemirror_mode": {
    "name": "ipython",
    "version": 3
   },
   "file_extension": ".py",
   "mimetype": "text/x-python",
   "name": "python",
   "nbconvert_exporter": "python",
   "pygments_lexer": "ipython3",
   "version": "3.11.4"
  }
 },
 "nbformat": 4,
 "nbformat_minor": 5
}
